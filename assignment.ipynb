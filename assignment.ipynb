{
 "cells": [
  {
   "cell_type": "code",
   "execution_count": 20,
   "metadata": {},
   "outputs": [],
   "source": [
    "# Task 1: while loop\n",
    "def while_loop():\n",
    "    number = 0\n",
    "    while number <= 20:\n",
    "        print(number)\n",
    "        if number == 16:\n",
    "            break\n",
    "        number +=2"
   ]
  },
  {
   "cell_type": "code",
   "execution_count": 28,
   "metadata": {},
   "outputs": [],
   "source": [
    "# Task 2: for loop with continue\n",
    "def for_loop_continue():\n",
    "    for num in range(1, 16):\n",
    "        # Your code here\n",
    "        if num%3 == 0:\n",
    "            continue\n",
    "        print(num)"
   ]
  },
  {
   "cell_type": "code",
   "execution_count": null,
   "metadata": {},
   "outputs": [],
   "source": [
    "# Task 3: if-else statement\n",
    "def number_classification():\n",
    "    number = int(input(\"Enter a number: \"))\n",
    "    if number == 0:\n",
    "        print(\"The Number is Zero.\")\n",
    "    elif number > 0:\n",
    "        print(\"The Number is Positive.\")\n",
    "    else:\n",
    "        print(\"The Number is Negative.\")"
   ]
  },
  {
   "cell_type": "code",
   "execution_count": 44,
   "metadata": {},
   "outputs": [],
   "source": [
    "# Task 4: Nested loops\n",
    "def multiplication_table():\n",
    "    for i in range(1, 6):\n",
    "        for j in range(1, 6):\n",
    "            print(f\"{i} x {j} = {i * j}\")"
   ]
  }
 ],
 "metadata": {
  "kernelspec": {
   "display_name": "Python 3",
   "language": "python",
   "name": "python3"
  },
  "language_info": {
   "codemirror_mode": {
    "name": "ipython",
    "version": 3
   },
   "file_extension": ".py",
   "mimetype": "text/x-python",
   "name": "python",
   "nbconvert_exporter": "python",
   "pygments_lexer": "ipython3",
   "version": "3.13.1"
  }
 },
 "nbformat": 4,
 "nbformat_minor": 2
}
